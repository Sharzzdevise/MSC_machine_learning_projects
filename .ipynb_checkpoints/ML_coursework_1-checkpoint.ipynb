{
 "cells": [
  {
   "cell_type": "markdown",
   "id": "cc8c0582",
   "metadata": {},
   "source": [
    "#### Name - Ifeanyichukwu Sharon Dim\n",
    "#### ID No - DIM21537876\n",
    "#### Course - Machine learning coursework 1\n",
    "#### Date  -  15/2/2023"
   ]
  },
  {
   "cell_type": "code",
   "execution_count": 1,
   "id": "0b965b30",
   "metadata": {},
   "outputs": [],
   "source": [
    "#load the dataset\n",
    "\n",
    "import pandas as pd\n",
    "import numpy as np\n",
    "import seaborn as sns\n",
    "import matplotlib.pyplot as plt\n",
    "\n",
    "\n",
    "from sklearn.linear_model import LinearRegression, Lasso, Ridge, ElasticNet\n",
    "from sklearn.model_selection import train_test_split\n",
    "from sklearn.metrics import mean_squared_error, r2_score, mean_absolute_error\n",
    "from sklearn.preprocessing import MinMaxScaler"
   ]
  },
  {
   "cell_type": "code",
   "execution_count": 2,
   "id": "97892619",
   "metadata": {},
   "outputs": [
    {
     "data": {
      "text/html": [
       "<div>\n",
       "<style scoped>\n",
       "    .dataframe tbody tr th:only-of-type {\n",
       "        vertical-align: middle;\n",
       "    }\n",
       "\n",
       "    .dataframe tbody tr th {\n",
       "        vertical-align: top;\n",
       "    }\n",
       "\n",
       "    .dataframe thead th {\n",
       "        text-align: right;\n",
       "    }\n",
       "</style>\n",
       "<table border=\"1\" class=\"dataframe\">\n",
       "  <thead>\n",
       "    <tr style=\"text-align: right;\">\n",
       "      <th></th>\n",
       "      <th>y</th>\n",
       "      <th>x1</th>\n",
       "      <th>x2</th>\n",
       "      <th>x3</th>\n",
       "      <th>x4</th>\n",
       "      <th>x5</th>\n",
       "      <th>x6</th>\n",
       "      <th>x7</th>\n",
       "      <th>x8</th>\n",
       "      <th>x9</th>\n",
       "      <th>x10</th>\n",
       "      <th>x11</th>\n",
       "      <th>x12</th>\n",
       "      <th>x13</th>\n",
       "    </tr>\n",
       "  </thead>\n",
       "  <tbody>\n",
       "    <tr>\n",
       "      <th>0</th>\n",
       "      <td>49.83</td>\n",
       "      <td>1.68</td>\n",
       "      <td>82.8</td>\n",
       "      <td>24</td>\n",
       "      <td>6.554</td>\n",
       "      <td>6.538</td>\n",
       "      <td>6.438</td>\n",
       "      <td>6.390</td>\n",
       "      <td>6.318</td>\n",
       "      <td>29.44</td>\n",
       "      <td>39.83</td>\n",
       "      <td>59.10</td>\n",
       "      <td>54.11</td>\n",
       "      <td>40.72</td>\n",
       "    </tr>\n",
       "    <tr>\n",
       "      <th>1</th>\n",
       "      <td>50.12</td>\n",
       "      <td>1.71</td>\n",
       "      <td>86.5</td>\n",
       "      <td>53</td>\n",
       "      <td>6.593</td>\n",
       "      <td>6.578</td>\n",
       "      <td>6.465</td>\n",
       "      <td>6.420</td>\n",
       "      <td>6.356</td>\n",
       "      <td>19.11</td>\n",
       "      <td>40.19</td>\n",
       "      <td>57.34</td>\n",
       "      <td>53.60</td>\n",
       "      <td>39.24</td>\n",
       "    </tr>\n",
       "    <tr>\n",
       "      <th>2</th>\n",
       "      <td>49.02</td>\n",
       "      <td>1.65</td>\n",
       "      <td>91.0</td>\n",
       "      <td>45</td>\n",
       "      <td>6.488</td>\n",
       "      <td>6.466</td>\n",
       "      <td>6.360</td>\n",
       "      <td>6.313</td>\n",
       "      <td>6.251</td>\n",
       "      <td>31.00</td>\n",
       "      <td>41.56</td>\n",
       "      <td>56.69</td>\n",
       "      <td>50.99</td>\n",
       "      <td>38.08</td>\n",
       "    </tr>\n",
       "    <tr>\n",
       "      <th>3</th>\n",
       "      <td>61.70</td>\n",
       "      <td>1.69</td>\n",
       "      <td>100.7</td>\n",
       "      <td>42</td>\n",
       "      <td>6.361</td>\n",
       "      <td>6.334</td>\n",
       "      <td>6.209</td>\n",
       "      <td>6.160</td>\n",
       "      <td>6.087</td>\n",
       "      <td>33.39</td>\n",
       "      <td>44.33</td>\n",
       "      <td>52.26</td>\n",
       "      <td>45.33</td>\n",
       "      <td>29.23</td>\n",
       "    </tr>\n",
       "    <tr>\n",
       "      <th>4</th>\n",
       "      <td>40.83</td>\n",
       "      <td>1.72</td>\n",
       "      <td>62.3</td>\n",
       "      <td>37</td>\n",
       "      <td>6.667</td>\n",
       "      <td>6.644</td>\n",
       "      <td>6.539</td>\n",
       "      <td>6.491</td>\n",
       "      <td>6.417</td>\n",
       "      <td>34.33</td>\n",
       "      <td>48.35</td>\n",
       "      <td>69.03</td>\n",
       "      <td>62.02</td>\n",
       "      <td>44.97</td>\n",
       "    </tr>\n",
       "  </tbody>\n",
       "</table>\n",
       "</div>"
      ],
      "text/plain": [
       "       y    x1     x2  x3     x4     x5     x6     x7     x8     x9    x10  \\\n",
       "0  49.83  1.68   82.8  24  6.554  6.538  6.438  6.390  6.318  29.44  39.83   \n",
       "1  50.12  1.71   86.5  53  6.593  6.578  6.465  6.420  6.356  19.11  40.19   \n",
       "2  49.02  1.65   91.0  45  6.488  6.466  6.360  6.313  6.251  31.00  41.56   \n",
       "3  61.70  1.69  100.7  42  6.361  6.334  6.209  6.160  6.087  33.39  44.33   \n",
       "4  40.83  1.72   62.3  37  6.667  6.644  6.539  6.491  6.417  34.33  48.35   \n",
       "\n",
       "     x11    x12    x13  \n",
       "0  59.10  54.11  40.72  \n",
       "1  57.34  53.60  39.24  \n",
       "2  56.69  50.99  38.08  \n",
       "3  52.26  45.33  29.23  \n",
       "4  69.03  62.02  44.97  "
      ]
     },
     "execution_count": 2,
     "metadata": {},
     "output_type": "execute_result"
    }
   ],
   "source": [
    "#import the dataset\n",
    "cw1_data = pd.read_csv('cw1_data.csv')\n",
    "cw1_data.head()"
   ]
  },
  {
   "cell_type": "markdown",
   "id": "3f6eb454",
   "metadata": {},
   "source": [
    "##### Preliminary data wrangling"
   ]
  },
  {
   "cell_type": "code",
   "execution_count": 3,
   "id": "3ebec5ee",
   "metadata": {},
   "outputs": [
    {
     "name": "stdout",
     "output_type": "stream",
     "text": [
      "<class 'pandas.core.frame.DataFrame'>\n",
      "RangeIndex: 135 entries, 0 to 134\n",
      "Data columns (total 14 columns):\n",
      " #   Column  Non-Null Count  Dtype  \n",
      "---  ------  --------------  -----  \n",
      " 0   y       135 non-null    float64\n",
      " 1   x1      135 non-null    float64\n",
      " 2   x2      135 non-null    float64\n",
      " 3   x3      135 non-null    int64  \n",
      " 4   x4      135 non-null    float64\n",
      " 5   x5      135 non-null    float64\n",
      " 6   x6      135 non-null    float64\n",
      " 7   x7      135 non-null    float64\n",
      " 8   x8      135 non-null    float64\n",
      " 9   x9      135 non-null    float64\n",
      " 10  x10     135 non-null    float64\n",
      " 11  x11     135 non-null    float64\n",
      " 12  x12     135 non-null    float64\n",
      " 13  x13     135 non-null    float64\n",
      "dtypes: float64(13), int64(1)\n",
      "memory usage: 14.9 KB\n"
     ]
    }
   ],
   "source": [
    "#access dataset information\n",
    "cw1_data.info()"
   ]
  },
  {
   "cell_type": "code",
   "execution_count": 4,
   "id": "6bbfd0c0",
   "metadata": {},
   "outputs": [
    {
     "data": {
      "text/html": [
       "<div>\n",
       "<style scoped>\n",
       "    .dataframe tbody tr th:only-of-type {\n",
       "        vertical-align: middle;\n",
       "    }\n",
       "\n",
       "    .dataframe tbody tr th {\n",
       "        vertical-align: top;\n",
       "    }\n",
       "\n",
       "    .dataframe thead th {\n",
       "        text-align: right;\n",
       "    }\n",
       "</style>\n",
       "<table border=\"1\" class=\"dataframe\">\n",
       "  <thead>\n",
       "    <tr style=\"text-align: right;\">\n",
       "      <th></th>\n",
       "      <th>y</th>\n",
       "      <th>x1</th>\n",
       "      <th>x2</th>\n",
       "      <th>x3</th>\n",
       "      <th>x4</th>\n",
       "      <th>x5</th>\n",
       "      <th>x6</th>\n",
       "      <th>x7</th>\n",
       "      <th>x8</th>\n",
       "      <th>x9</th>\n",
       "      <th>x10</th>\n",
       "      <th>x11</th>\n",
       "      <th>x12</th>\n",
       "      <th>x13</th>\n",
       "    </tr>\n",
       "  </thead>\n",
       "  <tbody>\n",
       "    <tr>\n",
       "      <th>count</th>\n",
       "      <td>135.000000</td>\n",
       "      <td>135.000000</td>\n",
       "      <td>135.000000</td>\n",
       "      <td>135.000000</td>\n",
       "      <td>135.000000</td>\n",
       "      <td>135.000000</td>\n",
       "      <td>135.000000</td>\n",
       "      <td>135.000000</td>\n",
       "      <td>135.000000</td>\n",
       "      <td>135.000000</td>\n",
       "      <td>135.000000</td>\n",
       "      <td>135.000000</td>\n",
       "      <td>135.000000</td>\n",
       "      <td>135.000000</td>\n",
       "    </tr>\n",
       "    <tr>\n",
       "      <th>mean</th>\n",
       "      <td>55.147333</td>\n",
       "      <td>1.621556</td>\n",
       "      <td>97.740000</td>\n",
       "      <td>44.859259</td>\n",
       "      <td>6.308985</td>\n",
       "      <td>6.284193</td>\n",
       "      <td>6.176126</td>\n",
       "      <td>6.125274</td>\n",
       "      <td>6.051637</td>\n",
       "      <td>25.716370</td>\n",
       "      <td>35.791407</td>\n",
       "      <td>49.388667</td>\n",
       "      <td>44.078370</td>\n",
       "      <td>30.672593</td>\n",
       "    </tr>\n",
       "    <tr>\n",
       "      <th>std</th>\n",
       "      <td>8.184919</td>\n",
       "      <td>0.064875</td>\n",
       "      <td>17.580812</td>\n",
       "      <td>13.231669</td>\n",
       "      <td>0.140394</td>\n",
       "      <td>0.140646</td>\n",
       "      <td>0.141849</td>\n",
       "      <td>0.141934</td>\n",
       "      <td>0.142768</td>\n",
       "      <td>5.216336</td>\n",
       "      <td>6.893616</td>\n",
       "      <td>8.379095</td>\n",
       "      <td>7.214192</td>\n",
       "      <td>5.766506</td>\n",
       "    </tr>\n",
       "    <tr>\n",
       "      <th>min</th>\n",
       "      <td>36.590000</td>\n",
       "      <td>1.450000</td>\n",
       "      <td>56.200000</td>\n",
       "      <td>18.000000</td>\n",
       "      <td>5.944000</td>\n",
       "      <td>5.922000</td>\n",
       "      <td>5.831000</td>\n",
       "      <td>5.790000</td>\n",
       "      <td>5.725000</td>\n",
       "      <td>9.930000</td>\n",
       "      <td>18.840000</td>\n",
       "      <td>29.810000</td>\n",
       "      <td>26.140000</td>\n",
       "      <td>17.100000</td>\n",
       "    </tr>\n",
       "    <tr>\n",
       "      <th>25%</th>\n",
       "      <td>49.640000</td>\n",
       "      <td>1.580000</td>\n",
       "      <td>86.500000</td>\n",
       "      <td>36.500000</td>\n",
       "      <td>6.215500</td>\n",
       "      <td>6.190000</td>\n",
       "      <td>6.087000</td>\n",
       "      <td>6.038000</td>\n",
       "      <td>5.963000</td>\n",
       "      <td>22.100000</td>\n",
       "      <td>30.805000</td>\n",
       "      <td>43.950000</td>\n",
       "      <td>38.955000</td>\n",
       "      <td>26.420000</td>\n",
       "    </tr>\n",
       "    <tr>\n",
       "      <th>50%</th>\n",
       "      <td>55.150000</td>\n",
       "      <td>1.630000</td>\n",
       "      <td>96.100000</td>\n",
       "      <td>46.000000</td>\n",
       "      <td>6.302000</td>\n",
       "      <td>6.276000</td>\n",
       "      <td>6.166000</td>\n",
       "      <td>6.118000</td>\n",
       "      <td>6.042000</td>\n",
       "      <td>25.810000</td>\n",
       "      <td>35.850000</td>\n",
       "      <td>50.170000</td>\n",
       "      <td>44.560000</td>\n",
       "      <td>30.600000</td>\n",
       "    </tr>\n",
       "    <tr>\n",
       "      <th>75%</th>\n",
       "      <td>61.845000</td>\n",
       "      <td>1.660000</td>\n",
       "      <td>111.350000</td>\n",
       "      <td>55.000000</td>\n",
       "      <td>6.405500</td>\n",
       "      <td>6.382000</td>\n",
       "      <td>6.260500</td>\n",
       "      <td>6.211500</td>\n",
       "      <td>6.141000</td>\n",
       "      <td>29.430000</td>\n",
       "      <td>40.865000</td>\n",
       "      <td>54.920000</td>\n",
       "      <td>48.910000</td>\n",
       "      <td>34.270000</td>\n",
       "    </tr>\n",
       "    <tr>\n",
       "      <th>max</th>\n",
       "      <td>74.950000</td>\n",
       "      <td>1.800000</td>\n",
       "      <td>136.800000</td>\n",
       "      <td>69.000000</td>\n",
       "      <td>6.684000</td>\n",
       "      <td>6.654000</td>\n",
       "      <td>6.539000</td>\n",
       "      <td>6.491000</td>\n",
       "      <td>6.417000</td>\n",
       "      <td>41.920000</td>\n",
       "      <td>59.690000</td>\n",
       "      <td>74.410000</td>\n",
       "      <td>62.020000</td>\n",
       "      <td>44.970000</td>\n",
       "    </tr>\n",
       "  </tbody>\n",
       "</table>\n",
       "</div>"
      ],
      "text/plain": [
       "                y          x1          x2          x3          x4          x5  \\\n",
       "count  135.000000  135.000000  135.000000  135.000000  135.000000  135.000000   \n",
       "mean    55.147333    1.621556   97.740000   44.859259    6.308985    6.284193   \n",
       "std      8.184919    0.064875   17.580812   13.231669    0.140394    0.140646   \n",
       "min     36.590000    1.450000   56.200000   18.000000    5.944000    5.922000   \n",
       "25%     49.640000    1.580000   86.500000   36.500000    6.215500    6.190000   \n",
       "50%     55.150000    1.630000   96.100000   46.000000    6.302000    6.276000   \n",
       "75%     61.845000    1.660000  111.350000   55.000000    6.405500    6.382000   \n",
       "max     74.950000    1.800000  136.800000   69.000000    6.684000    6.654000   \n",
       "\n",
       "               x6          x7          x8          x9         x10         x11  \\\n",
       "count  135.000000  135.000000  135.000000  135.000000  135.000000  135.000000   \n",
       "mean     6.176126    6.125274    6.051637   25.716370   35.791407   49.388667   \n",
       "std      0.141849    0.141934    0.142768    5.216336    6.893616    8.379095   \n",
       "min      5.831000    5.790000    5.725000    9.930000   18.840000   29.810000   \n",
       "25%      6.087000    6.038000    5.963000   22.100000   30.805000   43.950000   \n",
       "50%      6.166000    6.118000    6.042000   25.810000   35.850000   50.170000   \n",
       "75%      6.260500    6.211500    6.141000   29.430000   40.865000   54.920000   \n",
       "max      6.539000    6.491000    6.417000   41.920000   59.690000   74.410000   \n",
       "\n",
       "              x12         x13  \n",
       "count  135.000000  135.000000  \n",
       "mean    44.078370   30.672593  \n",
       "std      7.214192    5.766506  \n",
       "min     26.140000   17.100000  \n",
       "25%     38.955000   26.420000  \n",
       "50%     44.560000   30.600000  \n",
       "75%     48.910000   34.270000  \n",
       "max     62.020000   44.970000  "
      ]
     },
     "execution_count": 4,
     "metadata": {},
     "output_type": "execute_result"
    }
   ],
   "source": [
    "cw1_data.describe()"
   ]
  },
  {
   "cell_type": "code",
   "execution_count": 5,
   "id": "b4640983",
   "metadata": {},
   "outputs": [
    {
     "data": {
      "text/plain": [
       "(135, 14)"
      ]
     },
     "execution_count": 5,
     "metadata": {},
     "output_type": "execute_result"
    }
   ],
   "source": [
    "cw1_data.shape"
   ]
  },
  {
   "cell_type": "markdown",
   "id": "c35dbb00",
   "metadata": {},
   "source": [
    "##### Data visualization"
   ]
  },
  {
   "cell_type": "code",
   "execution_count": 6,
   "id": "6166be8f",
   "metadata": {},
   "outputs": [
    {
     "data": {
      "image/png": "[encoded data removed]",
      "text/plain": [
       "<Figure size 720x720 with 16 Axes>"
      ]
     },
     "metadata": {
      "needs_background": "light"
     },
     "output_type": "display_data"
    }
   ],
   "source": [
    "#plotting a histogram\n",
    "cw1_data.hist(figsize= (10,10));"
   ]
  },
  {
   "cell_type": "code",
   "execution_count": 7,
   "id": "86d24163",
   "metadata": {},
   "outputs": [
    {
     "data": {
      "image/png": "[encoded data removed]",
      "text/plain": [
       "<Figure size 1440x1440 with 2 Axes>"
      ]
     },
     "metadata": {
      "needs_background": "light"
     },
     "output_type": "display_data"
    }
   ],
   "source": [
    "#bivariate exploration\n",
    "\n",
    "#Convert all values to numeric\n",
    "cw1_data = cw1_data.apply(pd.to_numeric)\n",
    "\n",
    "# plotting a correlation matrix as a heatmap;\n",
    "plt.figure(figsize= (20, 20))\n",
    "mask = np.tril(np.ones_like(cw1_data.corr(), dtype= bool))\n",
    "sns.heatmap(cw1_data.corr(), cmap='BrBG', mask=mask, vmin=-1, vmax=1, fmt = '.3f', annot=True)\n",
    "plt.show()"
   ]
  },
  {
   "cell_type": "markdown",
   "id": "fdcd8c99",
   "metadata": {},
   "source": [
    "##### Regression analysis"
   ]
  },
  {
   "cell_type": "code",
   "execution_count": 8,
   "id": "6a301c16",
   "metadata": {},
   "outputs": [],
   "source": [
    "#dividing the data into attributes and class\n",
    "x = cw1_data.drop('y', axis = 1)\n",
    "y = cw1_data['y']"
   ]
  },
  {
   "cell_type": "code",
   "execution_count": 9,
   "id": "da0488d6",
   "metadata": {},
   "outputs": [
    {
     "data": {
      "text/plain": [
       "7      1.510\n",
       "99     1.580\n",
       "127    1.700\n",
       "4      1.720\n",
       "61     1.580\n",
       "       ...  \n",
       "102    1.670\n",
       "32     1.660\n",
       "41     1.650\n",
       "6      1.560\n",
       "120    1.565\n",
       "Name: x1, Length: 108, dtype: float64"
      ]
     },
     "execution_count": 9,
     "metadata": {},
     "output_type": "execute_result"
    }
   ],
   "source": [
    "#splitting the data into training and test datasets\n",
    "x_train, x_test, y_train, y_test = train_test_split(x, y, test_size = 0.20)\n",
    "x_train.x1"
   ]
  },
  {
   "cell_type": "code",
   "execution_count": 10,
   "id": "86bbbfa9",
   "metadata": {},
   "outputs": [
    {
     "data": {
      "text/plain": [
       "<matplotlib.collections.PathCollection at 0x248246e3a90>"
      ]
     },
     "execution_count": 10,
     "metadata": {},
     "output_type": "execute_result"
    },
    {
     "data": {
      "image/png": "[encoded data removed]",
      "text/plain": [
       "<Figure size 432x288 with 1 Axes>"
      ]
     },
     "metadata": {
      "needs_background": "light"
     },
     "output_type": "display_data"
    }
   ],
   "source": [
    "#visualize the train dataset (non-linear regression)\n",
    "from pylab import *\n",
    "%matplotlib inline\n",
    "scatter(x_train.x13, y_train)"
   ]
  },
  {
   "cell_type": "code",
   "execution_count": 11,
   "id": "328ebf99",
   "metadata": {},
   "outputs": [
    {
     "data": {
      "text/plain": [
       "<matplotlib.collections.PathCollection at 0x248245be0d0>"
      ]
     },
     "execution_count": 11,
     "metadata": {},
     "output_type": "execute_result"
    },
    {
     "data": {
      "image/png": "[encoded data removed]",
      "text/plain": [
       "<Figure size 432x288 with 1 Axes>"
      ]
     },
     "metadata": {
      "needs_background": "light"
     },
     "output_type": "display_data"
    }
   ],
   "source": [
    "#visualize the test dataset (non-linear regression)\n",
    "scatter(x_test.x13, y_test)"
   ]
  },
  {
   "cell_type": "code",
   "execution_count": 12,
   "id": "203f950f",
   "metadata": {},
   "outputs": [
    {
     "data": {
      "text/plain": [
       "LinearRegression()"
      ]
     },
     "execution_count": 12,
     "metadata": {},
     "output_type": "execute_result"
    }
   ],
   "source": [
    "poly_reg_model = LinearRegression()\n",
    "poly_reg_model"
   ]
  },
  {
   "cell_type": "code",
   "execution_count": 13,
   "id": "e80016aa",
   "metadata": {},
   "outputs": [
    {
     "data": {
      "text/plain": [
       "LinearRegression()"
      ]
     },
     "execution_count": 13,
     "metadata": {},
     "output_type": "execute_result"
    }
   ],
   "source": [
    "poly_reg_model.fit(x, y)"
   ]
  },
  {
   "cell_type": "code",
   "execution_count": 14,
   "id": "d4615424",
   "metadata": {},
   "outputs": [
    {
     "data": {
      "text/plain": [
       "(108,)"
      ]
     },
     "execution_count": 14,
     "metadata": {},
     "output_type": "execute_result"
    }
   ],
   "source": [
    "y_train.shape"
   ]
  },
  {
   "cell_type": "code",
   "execution_count": 15,
   "id": "504538b2",
   "metadata": {},
   "outputs": [
    {
     "data": {
      "text/plain": [
       "(108, 13)"
      ]
     },
     "execution_count": 15,
     "metadata": {},
     "output_type": "execute_result"
    }
   ],
   "source": [
    "x_train.shape"
   ]
  },
  {
   "cell_type": "code",
   "execution_count": 28,
   "id": "129609b6",
   "metadata": {},
   "outputs": [
    {
     "name": "stdout",
     "output_type": "stream",
     "text": [
      "1D Numpy Array:\n",
      "[ 1.51 89.   52.   ... 44.25 37.63 24.39]\n"
     ]
    }
   ],
   "source": [
    "#reshaping the arrays to aid fitting\n",
    "import numpy as np\n",
    "x_train = x.flatten()\n",
    "print('1D Numpy Array:')\n",
    "print(x_train)"
   ]
  },
  {
   "cell_type": "code",
   "execution_count": 29,
   "id": "d521c727",
   "metadata": {},
   "outputs": [
    {
     "name": "stdout",
     "output_type": "stream",
     "text": [
      "1D Numpy Array:\n",
      "[ 1.51 89.   52.   ... 44.25 37.63 24.39]\n"
     ]
    }
   ],
   "source": [
    "import numpy as np\n",
    "y_train = x.flatten()\n",
    "print('1D Numpy Array:')\n",
    "print(y_train)"
   ]
  },
  {
   "cell_type": "markdown",
   "id": "779d933d",
   "metadata": {},
   "source": [
    "###### Polynomial regression to aid model relationships between the dependent variable and other independent variables"
   ]
  },
  {
   "cell_type": "code",
   "execution_count": 30,
   "id": "7f954b09",
   "metadata": {},
   "outputs": [],
   "source": [
    "x = np.array(x_train)\n",
    "y = np.array(y_train)\n",
    "\n",
    "p4 = np.poly1d(np.polyfit(x, y, 8))"
   ]
  },
  {
   "cell_type": "code",
   "execution_count": 31,
   "id": "bc0bb2a2",
   "metadata": {},
   "outputs": [
    {
     "data": {
      "image/png": "[encoded data removed]",
      "text/plain": [
       "<Figure size 432x288 with 1 Axes>"
      ]
     },
     "metadata": {
      "needs_background": "light"
     },
     "output_type": "display_data"
    }
   ],
   "source": [
    "xp = np.linspace(0, 7, 100)\n",
    "axes = plt.axes()\n",
    "axes.set_xlim([0,7])\n",
    "axes.set_ylim([0, 200])\n",
    "plt.scatter(x, y)\n",
    "plt.plot(xp, p4(xp), c='r')\n",
    "plt.show()"
   ]
  },
  {
   "cell_type": "code",
   "execution_count": 32,
   "id": "4931c8bf",
   "metadata": {},
   "outputs": [
    {
     "name": "stdout",
     "output_type": "stream",
     "text": [
      "1D Numpy Array:\n",
      "[ 1.51 89.   52.   ... 44.25 37.63 24.39]\n"
     ]
    }
   ],
   "source": [
    "x_test = x.flatten()\n",
    "print('1D Numpy Array:')\n",
    "print(x_test)"
   ]
  },
  {
   "cell_type": "code",
   "execution_count": 33,
   "id": "b78b8d68",
   "metadata": {},
   "outputs": [
    {
     "name": "stdout",
     "output_type": "stream",
     "text": [
      "1D Numpy Array:\n",
      "[ 1.51 89.   52.   ... 44.25 37.63 24.39]\n"
     ]
    }
   ],
   "source": [
    "y_test = x.flatten()\n",
    "print('1D Numpy Array:')\n",
    "print(y_test)"
   ]
  },
  {
   "cell_type": "code",
   "execution_count": 34,
   "id": "a6b8cad7",
   "metadata": {},
   "outputs": [
    {
     "data": {
      "image/png": "[encoded data removed]",
      "text/plain": [
       "<Figure size 432x288 with 1 Axes>"
      ]
     },
     "metadata": {
      "needs_background": "light"
     },
     "output_type": "display_data"
    }
   ],
   "source": [
    "x_test = np.array(x_test)\n",
    "y_test = np.array(y_test)\n",
    "\n",
    "axes = plt.axes()\n",
    "axes.set_xlim([0,7])\n",
    "axes.set_ylim([0, 200])\n",
    "plt.scatter(x_test, y_test)\n",
    "plt.plot(xp, p4(xp), c='r')\n",
    "plt.show()"
   ]
  },
  {
   "cell_type": "code",
   "execution_count": 35,
   "id": "80e4a806",
   "metadata": {},
   "outputs": [
    {
     "name": "stdout",
     "output_type": "stream",
     "text": [
      "1.0\n"
     ]
    }
   ],
   "source": [
    "from sklearn.metrics import r2_score\n",
    "r2 = r2_score(y_test, p4(x_test))\n",
    "print(r2)"
   ]
  },
  {
   "cell_type": "code",
   "execution_count": 36,
   "id": "29e9b055",
   "metadata": {},
   "outputs": [
    {
     "name": "stdout",
     "output_type": "stream",
     "text": [
      "1.0\n"
     ]
    }
   ],
   "source": [
    "r2 = r2_score(np.array(y_train), p4(np.array(x_train)))\n",
    "\n",
    "print(r2)"
   ]
  },
  {
   "cell_type": "markdown",
   "id": "74894ff1",
   "metadata": {},
   "source": [
    "##### Insight\n",
    "###### An r2 = 1% indicates perfect fit"
   ]
  },
  {
   "cell_type": "code",
   "execution_count": 37,
   "id": "6702e4af",
   "metadata": {},
   "outputs": [
    {
     "data": {
      "text/plain": [
       "numpy.ndarray"
      ]
     },
     "execution_count": 37,
     "metadata": {},
     "output_type": "execute_result"
    }
   ],
   "source": [
    "type(y_train)"
   ]
  },
  {
   "cell_type": "markdown",
   "id": "6b2158cf",
   "metadata": {},
   "source": [
    "##### Lasso Regression analysis"
   ]
  },
  {
   "cell_type": "code",
   "execution_count": 38,
   "id": "387f9a2e",
   "metadata": {},
   "outputs": [],
   "source": [
    "x_train= x_train.reshape(-1, 1)\n",
    "x_test = x_test.reshape(-1, 1)"
   ]
  },
  {
   "cell_type": "code",
   "execution_count": 39,
   "id": "5efd3f4d",
   "metadata": {},
   "outputs": [],
   "source": [
    "#Using lasso regression technique\n",
    "lasso_model = Lasso(alpha=1.0)\n",
    "lasso=lasso_model.fit(x_train , y_train)\n",
    "lasso_predict = lasso.predict(x_test)"
   ]
  },
  {
   "cell_type": "code",
   "execution_count": 40,
   "id": "e5336cc5",
   "metadata": {},
   "outputs": [],
   "source": [
    "def MAPE(y_actual,y_Predicted):\n",
    "    mape = np.mean(np.abs((y_actual - y_Predicted)/y_actual))*100\n",
    "    return mape"
   ]
  },
  {
   "cell_type": "code",
   "execution_count": 41,
   "id": "3bf7f12a",
   "metadata": {},
   "outputs": [
    {
     "name": "stdout",
     "output_type": "stream",
     "text": [
      "MAPE value:  0.37313379708207733\n"
     ]
    }
   ],
   "source": [
    "Lasso_MAPE = MAPE(y_test,lasso_predict)\n",
    "print(\"MAPE value: \",Lasso_MAPE)"
   ]
  },
  {
   "cell_type": "markdown",
   "id": "98f27682",
   "metadata": {},
   "source": [
    "##### a MAPE value of 0.37% means that the average difference between the forecasted value and the actual value is 0.37%, which is very good. In conclusion, the lower the Mean absolute percentage error, the better,"
   ]
  },
  {
   "cell_type": "code",
   "execution_count": 42,
   "id": "f67d7908",
   "metadata": {},
   "outputs": [
    {
     "name": "stdout",
     "output_type": "stream",
     "text": [
      "Accuracy of Lasso Regression: 99.63%.\n"
     ]
    }
   ],
   "source": [
    "Accuracy = 100 - Lasso_MAPE\n",
    "print('Accuracy of Lasso Regression: {:0.2f}%.'.format(Accuracy))\n",
    "#very good"
   ]
  },
  {
   "cell_type": "code",
   "execution_count": 43,
   "id": "a3c6adbe",
   "metadata": {},
   "outputs": [
    {
     "name": "stdout",
     "output_type": "stream",
     "text": [
      "rmse: 0.0\n"
     ]
    },
    {
     "data": {
      "text/plain": [
       "array([0.99999865])"
      ]
     },
     "execution_count": 43,
     "metadata": {},
     "output_type": "execute_result"
    }
   ],
   "source": [
    "lasso = Lasso(alpha = 0.001)\n",
    "lasso.fit(x_train, y_train)\n",
    "\n",
    "preds = lasso.predict(x_test)\n",
    "print(\"rmse:\", round(mean_squared_error(y_test, preds, squared = False), 3))\n",
    "lasso.coef_"
   ]
  },
  {
   "cell_type": "markdown",
   "id": "383d927d",
   "metadata": {},
   "source": [
    "###### The Lasso RMSE score is 0.0, which indicates a perfect fit to the data"
   ]
  },
  {
   "cell_type": "markdown",
   "id": "a2e5258f",
   "metadata": {},
   "source": [
    "##### Generating predictions"
   ]
  },
  {
   "cell_type": "code",
   "execution_count": 44,
   "id": "6551cb3a",
   "metadata": {},
   "outputs": [],
   "source": [
    "#import libraries\n",
    "from sklearn.tree import DecisionTreeRegressor"
   ]
  },
  {
   "cell_type": "code",
   "execution_count": 45,
   "id": "9d48dc11",
   "metadata": {},
   "outputs": [],
   "source": [
    "models = {'DecisionTree Regressor' : DecisionTreeRegressor(),\n",
    "       'ridge' : Ridge(),\n",
    "       'LinearRegression' : LinearRegression(),\n",
    "          }"
   ]
  },
  {
   "cell_type": "code",
   "execution_count": 46,
   "id": "87490348",
   "metadata": {},
   "outputs": [
    {
     "data": {
      "text/plain": [
       "{'DecisionTree Regressor': 1.0,\n",
       " 'ridge': 0.9999999999990768,\n",
       " 'LinearRegression': 1.0}"
      ]
     },
     "execution_count": 46,
     "metadata": {},
     "output_type": "execute_result"
    }
   ],
   "source": [
    "def fit_and_score(models, x_train, x_test, y_train, y_test):\n",
    "  \"\"\"\n",
    "  fits and evaluates given ml models\n",
    "  models : a dictionary of different scikit learn machine learning models\n",
    "  X_train : training data(no labels)\n",
    "  X_test : testing data(no labels)\n",
    "  y_train : training labels\n",
    "  y_test : testing labels\n",
    "  \"\"\"\n",
    "  #setting random seed for reproducibility so we get same number anytime we run a new code\n",
    "  np.random.seed(10)\n",
    "\n",
    "  #Making a dictionary to keep model scores\n",
    "  model_scores = {}\n",
    "\n",
    "   #Looping through models\n",
    "  for name, model in models.items():\n",
    "\n",
    "  #fitting the model to the data\n",
    "      model.fit(x_train, y_train)\n",
    "  #evaluating the model and appending its score to model_scores\n",
    "      model_scores[name] = model.score(x_test, y_test)\n",
    "  return model_scores\n",
    "model_scores = fit_and_score(models = models,\n",
    "                     x_train = x_train,\n",
    "                     x_test = x_test,\n",
    "                      y_train = y_train,\n",
    "                     y_test = y_test)\n",
    "model_scores"
   ]
  },
  {
   "cell_type": "markdown",
   "id": "0dfb377c",
   "metadata": {},
   "source": [
    "##### Linear Regression"
   ]
  },
  {
   "cell_type": "code",
   "execution_count": 47,
   "id": "82cab69a",
   "metadata": {},
   "outputs": [
    {
     "data": {
      "text/plain": [
       "LinearRegression()"
      ]
     },
     "execution_count": 47,
     "metadata": {},
     "output_type": "execute_result"
    }
   ],
   "source": [
    "#fitting the Model\n",
    "from sklearn.linear_model import LinearRegression \n",
    "\n",
    "cw1_data = LinearRegression()  \n",
    "cw1_data.fit(x_train, y_train)"
   ]
  },
  {
   "cell_type": "code",
   "execution_count": 48,
   "id": "c91e508d",
   "metadata": {},
   "outputs": [],
   "source": [
    "# Predictions\n",
    "y_pred = cw1_data.predict(x_test)"
   ]
  },
  {
   "cell_type": "code",
   "execution_count": 49,
   "id": "2c1d79f0",
   "metadata": {},
   "outputs": [
    {
     "name": "stdout",
     "output_type": "stream",
     "text": [
      "R2: 1.0\n",
      "MAE: 9.199668567299908e-15\n",
      "MSE: 1.4721674173628114e-28\n",
      "RMSE: 1.21332906392405e-14\n"
     ]
    }
   ],
   "source": [
    "r2 = r2_score(y_test, y_pred)\n",
    "mae = mean_absolute_error(y_test, y_pred)\n",
    "mse = mean_squared_error(y_test,y_pred) #default=True\n",
    "rmse = mean_squared_error(y_test, y_pred, squared=False)\n",
    "\n",
    "print(\"R2:\",r2)\n",
    "print(\"MAE:\",mae)\n",
    "print(\"MSE:\",mse)\n",
    "print(\"RMSE:\",rmse)"
   ]
  },
  {
   "cell_type": "markdown",
   "id": "558c98e3",
   "metadata": {},
   "source": [
    "#### Insights\n",
    "##### The R2 had a perfect score at 1%, which means the data is perfectly correlated.\n",
    "##### The linear regression model scored 1.0, a perfect score\n",
    "##### MAE (Mean absolute error) represents the difference between the original and predicted values extracted by averaging the absolute difference over the data set. The score derived is 9.19.\n",
    "##### MSE (Mean Squared Error) represents the difference between the original and predicted values extracted by squaring the average difference over the data set. The score was 1.47, which low and a bit close to 0, which is a good one.\n",
    "##### RMSE (Root Mean Squared Error) is the error rate by the square root of MSE. The score was 1.21, which low and a bit close to 0, which is a good one.\n",
    "##### the lower the result, the better, which shows a good one. "
   ]
  },
  {
   "cell_type": "markdown",
   "id": "fe049f84",
   "metadata": {},
   "source": [
    "###### Visualizing my prediction"
   ]
  },
  {
   "cell_type": "code",
   "execution_count": 50,
   "id": "89b73444",
   "metadata": {},
   "outputs": [
    {
     "data": {
      "image/png": "[encoded data removed]",
      "text/plain": [
       "<Figure size 432x288 with 1 Axes>"
      ]
     },
     "metadata": {
      "needs_background": "light"
     },
     "output_type": "display_data"
    }
   ],
   "source": [
    "#in ml regression the default EVALUATION is R2SCORE\n",
    "cw1_data = pd.DataFrame(model_scores, index = ['R2_Score'])\n",
    "cw1_data.T.plot.bar();\n",
    " #T means Transpose, to improve the plot if needed."
   ]
  },
  {
   "cell_type": "markdown",
   "id": "6cea5db6",
   "metadata": {},
   "source": []
  }
 ],
 "metadata": {
  "kernelspec": {
   "display_name": "Python 3 (ipykernel)",
   "language": "python",
   "name": "python3"
  },
  "language_info": {
   "codemirror_mode": {
    "name": "ipython",
    "version": 3
   },
   "file_extension": ".py",
   "mimetype": "text/x-python",
   "name": "python",
   "nbconvert_exporter": "python",
   "pygments_lexer": "ipython3",
   "version": "3.9.12"
  }
 },
 "nbformat": 4,
 "nbformat_minor": 5
}
